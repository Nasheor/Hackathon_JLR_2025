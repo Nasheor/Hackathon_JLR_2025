{
 "cells": [
  {
   "cell_type": "code",
   "execution_count": 3,
   "id": "becda68a",
   "metadata": {},
   "outputs": [
    {
     "data": {
      "text/plain": [
       "{'CVE ID': Value(dtype='string', id=None),\n",
       " 'CWE ID': Value(dtype='string', id=None),\n",
       " 'func_after': Value(dtype='string', id=None),\n",
       " 'func_before': Value(dtype='string', id=None),\n",
       " 'project': Value(dtype='string', id=None)}"
      ]
     },
     "execution_count": 3,
     "metadata": {},
     "output_type": "execute_result"
    }
   ],
   "source": [
    "from datasets import load_from_disk\n",
    "from pathlib import Path\n",
    "\n",
    "RAW_PATH = Path(\"../data/processed/\") / \"with_cwe_projects_qualified\"\n",
    "\n",
    "ds = load_from_disk(RAW_PATH)\n",
    "ds['train'].features"
   ]
  },
  {
   "cell_type": "code",
   "execution_count": 4,
   "id": "04e6b1a9",
   "metadata": {},
   "outputs": [
    {
     "name": "stdout",
     "output_type": "stream",
     "text": [
      "53658\n"
     ]
    }
   ],
   "source": [
    "print(len(ds['train']))"
   ]
  }
 ],
 "metadata": {
  "kernelspec": {
   "display_name": ".venv",
   "language": "python",
   "name": "python3"
  },
  "language_info": {
   "codemirror_mode": {
    "name": "ipython",
    "version": 3
   },
   "file_extension": ".py",
   "mimetype": "text/x-python",
   "name": "python",
   "nbconvert_exporter": "python",
   "pygments_lexer": "ipython3",
   "version": "3.12.3"
  }
 },
 "nbformat": 4,
 "nbformat_minor": 5
}
