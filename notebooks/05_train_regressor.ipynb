{
 "cells": [
  {
   "cell_type": "code",
   "id": "initial_id",
   "metadata": {
    "collapsed": true,
    "ExecuteTime": {
     "end_time": "2025-06-12T03:05:24.547530Z",
     "start_time": "2025-06-12T02:49:58.053349Z"
    }
   },
   "source": [
    "# %% [markdown] ----------------------------------------------------------\n",
    "# # Task 5 – CVSS Regressor\n",
    "# Uses the frozen CodeBERT encoder + a 2-layer MLP head to predict a\n",
    "# CVSS v3 score (0–10).  Expected runtime: <15 min on RTX-3060.\n",
    "\n",
    "# %% [code] 0 Imports & paths\n",
    "import pathlib, torch, time, json, evaluate\n",
    "from transformers import AutoTokenizer, AutoModel, TrainingArguments, Trainer\n",
    "from torch import nn\n",
    "from datasets import load_dataset, Value\n",
    "from src.train_classifier_utils import seed_everything          # same seed helper\n",
    "from src.reg_utils import regression_metrics\n",
    "import math # new helper\n",
    "import sklearn.metrics as sk\n",
    "\n",
    "TRAIN_JSONL = \"../data/splits/train.jsonl\"\n",
    "VALID_JSONL = \"../data/splits/valid.jsonl\"\n",
    "OUT_DIR     = pathlib.Path(\"../models/cvss_regressor\")\n",
    "OUT_DIR.mkdir(parents=True, exist_ok=True)\n",
    "\n",
    "DEVICE = \"cuda\" if torch.cuda.is_available() else \"cpu\"\n",
    "seed_everything(42)\n",
    "print(\"Device:\", DEVICE)\n",
    "\n",
    "# %% [code] 1 Load splits & tokenise\n",
    "tok = AutoTokenizer.from_pretrained(\"microsoft/codebert-base\")\n",
    "MAX_LEN = 512\n",
    "\n",
    "def tokenize(batch):\n",
    "    return tok(batch[\"Function before\"],\n",
    "               truncation=True, padding=\"longest\", max_length=MAX_LEN)\n",
    "\n",
    "ds = load_dataset(\"json\",\n",
    "                  data_files={\"train\": TRAIN_JSONL,\n",
    "                              \"validation\": VALID_JSONL})\n",
    "ds = ds.filter(lambda x: x[\"cvss\"] is not None and not math.isnan(x[\"cvss\"]))\n",
    "ds = ds.map(tokenize, batched=True, remove_columns=[\"Function before\"])\n",
    "\n",
    "ds = ds.rename_column(\"cvss\", \"labels\")      # Trainer now sees 'labels'\n",
    "ds = ds.cast_column(\"labels\", Value(\"float32\"))     # regression needs float\n",
    "ds.set_format(type=\"torch\")\n",
    "\n",
    "# %% [code] 2 Build the frozen encoder + MLP head\n",
    "class CodeBERTRegressor(nn.Module):\n",
    "    def __init__(self, base_model_name=\"microsoft/codebert-base\"):\n",
    "        super().__init__()\n",
    "        self.encoder = AutoModel.from_pretrained(base_model_name)   # 768-d CLS\n",
    "        for p in self.encoder.parameters():          # freeze\n",
    "            p.requires_grad = False\n",
    "        self.mlp = nn.Sequential(\n",
    "            nn.Linear(768, 256),\n",
    "            nn.ReLU(),\n",
    "            nn.Linear(256, 1)\n",
    "        )\n",
    "\n",
    "    def forward(self, input_ids=None, attention_mask=None, labels=None):\n",
    "        cls = self.encoder(input_ids=input_ids,\n",
    "                           attention_mask=attention_mask).last_hidden_state[:, 0, :]\n",
    "        pred = self.mlp(cls).squeeze(-1)             # (batch,)\n",
    "        if labels is not None:\n",
    "            loss_fn = nn.MSELoss()\n",
    "            loss = loss_fn(pred, labels.float())\n",
    "            return {\"loss\": loss, \"logits\": pred}\n",
    "        return {\"logits\": pred}\n",
    "\n",
    "model = CodeBERTRegressor().to(DEVICE)\n",
    "print(\"Trainable parameters:\", sum(p.numel() for p in model.parameters() if p.requires_grad))\n",
    "\n",
    "# %% [code] 3 TrainingArguments\n",
    "args = TrainingArguments(\n",
    "    output_dir=str(OUT_DIR),\n",
    "    num_train_epochs=3,\n",
    "    per_device_train_batch_size=16,\n",
    "    per_device_eval_batch_size=16,\n",
    "    learning_rate=2e-4,\n",
    "    fp16=(DEVICE == \"cuda\"),\n",
    "    eval_strategy=\"epoch\",\n",
    "    save_strategy=\"epoch\",\n",
    "    load_best_model_at_end=True,\n",
    "    metric_for_best_model=\"eval_mae\",\n",
    "    greater_is_better=False,            # lower MAE is better\n",
    "    logging_steps=50,\n",
    "    seed=42\n",
    ")\n",
    "\n",
    "# %% [code] 4 HF Trainer + custom metrics\n",
    "def compute_metrics(eval_pred):\n",
    "    preds, labels = eval_pred\n",
    "    preds = preds.flatten()\n",
    "    labels = labels.flatten()\n",
    "\n",
    "    mae  = sk.mean_absolute_error(labels, preds)\n",
    "    mse  = sk.mean_squared_error(labels, preds)   # always exists\n",
    "    rmse = math.sqrt(mse)\n",
    "    r2   = sk.r2_score(labels, preds)\n",
    "\n",
    "    return {\"mae\": mae, \"rmse\": rmse, \"r2\": r2}\n",
    "\n",
    "trainer = Trainer(\n",
    "    model=model,\n",
    "    args=args,\n",
    "    train_dataset=ds[\"train\"],\n",
    "    eval_dataset=ds[\"validation\"],\n",
    "    compute_metrics=compute_metrics,\n",
    ")\n",
    "\n",
    "t0 = time.time()\n",
    "trainer.train()\n",
    "print(f\"⏱ Finished in {(time.time()-t0)/60:.1f} min\")\n",
    "\n",
    "# %% [code] 5 Save artefacts\n",
    "trainer.save_model(str(OUT_DIR))\n",
    "metrics = trainer.evaluate(ds[\"validation\"])\n",
    "with open(OUT_DIR / \"metrics.json\", \"w\") as w:\n",
    "    json.dump(metrics, w, indent=2)\n",
    "metrics\n"
   ],
   "outputs": [
    {
     "name": "stdout",
     "output_type": "stream",
     "text": [
      "Device: cpu\n"
     ]
    },
    {
     "name": "stderr",
     "output_type": "stream",
     "text": [
      "Filter: 100%|██████████| 563/563 [00:00<00:00, 20657.98 examples/s]\n",
      "Filter: 100%|██████████| 70/70 [00:00<00:00, 4169.94 examples/s]\n",
      "Map: 100%|██████████| 282/282 [00:00<00:00, 2049.61 examples/s]\n",
      "Map: 100%|██████████| 35/35 [00:00<00:00, 958.19 examples/s]\n",
      "Casting the dataset: 100%|██████████| 282/282 [00:00<00:00, 16077.12 examples/s]\n",
      "Casting the dataset: 100%|██████████| 35/35 [00:00<00:00, 2187.01 examples/s]\n"
     ]
    },
    {
     "name": "stdout",
     "output_type": "stream",
     "text": [
      "Trainable parameters: 197121\n"
     ]
    },
    {
     "name": "stderr",
     "output_type": "stream",
     "text": [
      "C:\\Users\\nagar\\anaconda3\\envs\\hackathon_2025\\Lib\\site-packages\\torch\\utils\\data\\dataloader.py:665: UserWarning: 'pin_memory' argument is set as true but no accelerator is found, then device pinned memory won't be used.\n",
      "  warnings.warn(warn_msg)\n"
     ]
    },
    {
     "data": {
      "text/plain": [
       "<IPython.core.display.HTML object>"
      ],
      "text/html": [
       "\n",
       "    <div>\n",
       "      \n",
       "      <progress value='54' max='54' style='width:300px; height:20px; vertical-align: middle;'></progress>\n",
       "      [54/54 14:55, Epoch 3/3]\n",
       "    </div>\n",
       "    <table border=\"1\" class=\"dataframe\">\n",
       "  <thead>\n",
       " <tr style=\"text-align: left;\">\n",
       "      <th>Epoch</th>\n",
       "      <th>Training Loss</th>\n",
       "      <th>Validation Loss</th>\n",
       "      <th>Mae</th>\n",
       "      <th>Rmse</th>\n",
       "      <th>R2</th>\n",
       "    </tr>\n",
       "  </thead>\n",
       "  <tbody>\n",
       "    <tr>\n",
       "      <td>1</td>\n",
       "      <td>No log</td>\n",
       "      <td>2.674279</td>\n",
       "      <td>1.375880</td>\n",
       "      <td>1.635322</td>\n",
       "      <td>-2.494392</td>\n",
       "    </tr>\n",
       "    <tr>\n",
       "      <td>2</td>\n",
       "      <td>No log</td>\n",
       "      <td>1.481547</td>\n",
       "      <td>1.214155</td>\n",
       "      <td>1.217188</td>\n",
       "      <td>-0.935889</td>\n",
       "    </tr>\n",
       "    <tr>\n",
       "      <td>3</td>\n",
       "      <td>7.166000</td>\n",
       "      <td>1.462202</td>\n",
       "      <td>1.205687</td>\n",
       "      <td>1.209215</td>\n",
       "      <td>-0.910611</td>\n",
       "    </tr>\n",
       "  </tbody>\n",
       "</table><p>"
      ]
     },
     "metadata": {},
     "output_type": "display_data"
    },
    {
     "name": "stderr",
     "output_type": "stream",
     "text": [
      "C:\\Users\\nagar\\anaconda3\\envs\\hackathon_2025\\Lib\\site-packages\\torch\\utils\\data\\dataloader.py:665: UserWarning: 'pin_memory' argument is set as true but no accelerator is found, then device pinned memory won't be used.\n",
      "  warnings.warn(warn_msg)\n",
      "C:\\Users\\nagar\\anaconda3\\envs\\hackathon_2025\\Lib\\site-packages\\torch\\utils\\data\\dataloader.py:665: UserWarning: 'pin_memory' argument is set as true but no accelerator is found, then device pinned memory won't be used.\n",
      "  warnings.warn(warn_msg)\n"
     ]
    },
    {
     "name": "stdout",
     "output_type": "stream",
     "text": [
      "⏱ Finished in 15.2 min\n"
     ]
    },
    {
     "name": "stderr",
     "output_type": "stream",
     "text": [
      "C:\\Users\\nagar\\anaconda3\\envs\\hackathon_2025\\Lib\\site-packages\\torch\\utils\\data\\dataloader.py:665: UserWarning: 'pin_memory' argument is set as true but no accelerator is found, then device pinned memory won't be used.\n",
      "  warnings.warn(warn_msg)\n"
     ]
    },
    {
     "data": {
      "text/plain": [
       "<IPython.core.display.HTML object>"
      ],
      "text/html": [
       "\n",
       "    <div>\n",
       "      \n",
       "      <progress value='3' max='3' style='width:300px; height:20px; vertical-align: middle;'></progress>\n",
       "      [3/3 00:05]\n",
       "    </div>\n",
       "    "
      ]
     },
     "metadata": {},
     "output_type": "display_data"
    },
    {
     "data": {
      "text/plain": [
       "{'eval_loss': 1.4622015953063965,\n",
       " 'eval_mae': 1.2056866884231567,\n",
       " 'eval_rmse': 1.2092153793782874,\n",
       " 'eval_r2': -0.910610556602478,\n",
       " 'eval_runtime': 10.6236,\n",
       " 'eval_samples_per_second': 3.295,\n",
       " 'eval_steps_per_second': 0.282,\n",
       " 'epoch': 3.0}"
      ]
     },
     "execution_count": 13,
     "metadata": {},
     "output_type": "execute_result"
    }
   ],
   "execution_count": 13
  }
 ],
 "metadata": {
  "kernelspec": {
   "display_name": "Python 3",
   "language": "python",
   "name": "python3"
  },
  "language_info": {
   "codemirror_mode": {
    "name": "ipython",
    "version": 2
   },
   "file_extension": ".py",
   "mimetype": "text/x-python",
   "name": "python",
   "nbconvert_exporter": "python",
   "pygments_lexer": "ipython2",
   "version": "2.7.6"
  }
 },
 "nbformat": 4,
 "nbformat_minor": 5
}
