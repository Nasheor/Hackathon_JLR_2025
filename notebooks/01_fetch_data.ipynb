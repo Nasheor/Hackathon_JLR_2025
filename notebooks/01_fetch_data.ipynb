{
 "cells": [
  {
   "cell_type": "code",
   "id": "c6f502ff",
   "metadata": {
    "jupyter": {
     "is_executing": true
    }
   },
   "source": [
    "from datasets import load_dataset\n",
    "from pathlib import Path\n",
    "\n",
    "ds = load_dataset(\"bstee615/bigvul\")\n",
    "\n",
    "SAVE_PATH = Path(\"../data/raw/\") / \"bigvul.raw\"\n",
    "\n",
    "# Save whole dataset dictionary\n",
    "ds.save_to_disk(SAVE_PATH)\n",
    "\n"
   ],
   "outputs": [],
   "execution_count": null
  }
 ],
 "metadata": {
  "kernelspec": {
   "display_name": ".venv",
   "language": "python",
   "name": "python3"
  },
  "language_info": {
   "codemirror_mode": {
    "name": "ipython",
    "version": 3
   },
   "file_extension": ".py",
   "mimetype": "text/x-python",
   "name": "python",
   "nbconvert_exporter": "python",
   "pygments_lexer": "ipython3",
   "version": "3.12.3"
  }
 },
 "nbformat": 4,
 "nbformat_minor": 5
}
