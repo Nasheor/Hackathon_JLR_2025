{
 "cells": [
  {
   "cell_type": "code",
   "execution_count": 1,
   "id": "c6f502ff",
   "metadata": {},
   "outputs": [
    {
     "name": "stderr",
     "output_type": "stream",
     "text": [
      "/home/ilya/Hackathon_JLR_2025/.venv/lib/python3.12/site-packages/tqdm/auto.py:21: TqdmWarning: IProgress not found. Please update jupyter and ipywidgets. See https://ipywidgets.readthedocs.io/en/stable/user_install.html\n",
      "  from .autonotebook import tqdm as notebook_tqdm\n",
      "Saving the dataset (1/1 shards): 100%|██████████| 150908/150908 [00:03<00:00, 39700.22 examples/s]\n",
      "Saving the dataset (1/1 shards): 100%|██████████| 33049/33049 [00:00<00:00, 79261.12 examples/s]\n",
      "Saving the dataset (1/1 shards): 100%|██████████| 33050/33050 [00:00<00:00, 89054.99 examples/s]\n"
     ]
    }
   ],
   "source": [
    "from datasets import load_dataset\n",
    "from pathlib import Path\n",
    "\n",
    "ds = load_dataset(\"bstee615/bigvul\")\n",
    "\n",
    "SAVE_PATH = Path(\"../data/raw/\") / \"bigvul.raw\"\n",
    "\n",
    "# Save whole dataset dictionary\n",
    "ds.save_to_disk(SAVE_PATH)\n",
    "\n"
   ]
  }
 ],
 "metadata": {
  "kernelspec": {
   "display_name": ".venv",
   "language": "python",
   "name": "python3"
  },
  "language_info": {
   "codemirror_mode": {
    "name": "ipython",
    "version": 3
   },
   "file_extension": ".py",
   "mimetype": "text/x-python",
   "name": "python",
   "nbconvert_exporter": "python",
   "pygments_lexer": "ipython3",
   "version": "3.12.3"
  }
 },
 "nbformat": 4,
 "nbformat_minor": 5
}
